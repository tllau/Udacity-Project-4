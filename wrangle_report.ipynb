{
 "cells": [
  {
   "cell_type": "markdown",
   "id": "entitled-kitty",
   "metadata": {},
   "source": [
    "## Wrangle df_archive\n"
   ]
  },
  {
   "cell_type": "markdown",
   "id": "abandoned-rating",
   "metadata": {},
   "source": [
    "### Visual assessment\n",
    "First, I visually assess `df_archive` by opening the csv file on Excel (it is easier to have a scroll through the datset than by Pandas. First thing I noticed there are a lot of empty field at the columns `in_reply_to_status_id`, `in_reply_to_user_id`, `retweeted_status_id`, `retweeted_status_user_id`, `retweeted_status_timestamp`. These fields indicate the tweet is a retweet or not. I probably need to drop rows with non-empty field under these columns for the purpose of this analysis. \n",
    "\n",
    "Next for the last four columns (`doggo`, `floofer`, `pupper` and  `puppo`), they all represent various stages of dogs so it should be grouped under a single column (untidy data). Also , most of the fields under these columns are indicated by string \"none\", instead of being empty.\n",
    "\n",
    "Another data quality issue was found under `name` column. There are names called \"none\" and \"a'. "
   ]
  },
  {
   "cell_type": "markdown",
   "id": "united-ceremony",
   "metadata": {},
   "source": [
    "### Programmatic assessment\n",
    "\n",
    "I import the csv into pandas. First, use .info() to inspect columns dtype and missing values. I found erroneous datatypes for columns `timestamp`, `in_reply_to_status_id`, `in_reply_to_user_id`, `retweeted_status_id`, `retweeted_status_user_id`, `retweeted_status_timestamp`.\n",
    "I use df_archive.duplicated() to check if any duplicate tweets in the dataset. There is none.\n",
    "\n",
    "Next, I use .describe() to check any abnormal outliers for numeric values. For `rating_numerator`, the maximum rating is 1776, while a typical rating should only be around 10-20. So I clicked on the [URL](https://twitter.com/dog_rates/status/749981277374128128) for that tweet to see if it is a genuine data. It in fact is a valid rating. And there are 24 ratings above 20 `sum(df_archive['rating_numerator'] > 20`. Some of them are the total ratings for a group of dogs in the same picture. I won't do anything about these ratings now but will return to them during EDA."
   ]
  },
  {
   "cell_type": "markdown",
   "id": "contrary-cincinnati",
   "metadata": {},
   "source": [
    "#### Quality\n",
    "##### `df_archive` table\n",
    "- For `name` column, some are of the string \"none\" and some are named \"a\"\n",
    "- \"none\" instead of empty under `doggo`, `floofer`, `pupper` and  `puppo`|\n",
    "- Erroneous datatypes (`timestamp`, `in_reply_to_status_id`, `in_reply_to_user_id`, `retweeted_status_id`, `retweeted_status_user_id`, `retweeted_status_timestamp`)\n",
    "- 181 tweets are retweet (`non_empty retweeted_status_id`)\n",
    "\n",
    "#### Tidiness\n",
    "- One variable in four columns (`doggo`, `floofer`, `pupper` and  `puppo`)\n"
   ]
  },
  {
   "cell_type": "markdown",
   "id": "defensive-ecuador",
   "metadata": {},
   "source": []
  },
  {
   "cell_type": "markdown",
   "id": "civil-ottawa",
   "metadata": {},
   "source": []
  },
  {
   "cell_type": "code",
   "execution_count": null,
   "id": "radio-accounting",
   "metadata": {},
   "outputs": [],
   "source": []
  }
 ],
 "metadata": {
  "kernelspec": {
   "display_name": "Python 3",
   "language": "python",
   "name": "python3"
  },
  "language_info": {
   "codemirror_mode": {
    "name": "ipython",
    "version": 3
   },
   "file_extension": ".py",
   "mimetype": "text/x-python",
   "name": "python",
   "nbconvert_exporter": "python",
   "pygments_lexer": "ipython3",
   "version": "3.8.8"
  }
 },
 "nbformat": 4,
 "nbformat_minor": 5
}
