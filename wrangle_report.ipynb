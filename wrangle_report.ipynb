{
 "cells": [
  {
   "cell_type": "markdown",
   "id": "0b27ff38",
   "metadata": {},
   "source": [
    "# Assess"
   ]
  },
  {
   "cell_type": "markdown",
   "id": "3beb8e60",
   "metadata": {},
   "source": [
    "## `df_archive`"
   ]
  },
  {
   "cell_type": "markdown",
   "id": "93671924",
   "metadata": {},
   "source": [
    "#### Visual assessment\n",
    "I visually assess `df_archive` by opening the csv file on Google Sheet. First thing I noticed there are a lot of empty field at the columns `in_reply_to_status_id`, `in_reply_to_user_id`, `retweeted_status_id`, `retweeted_status_user_id`, `retweeted_status_timestamp`. These fields indicate the tweet is a retweet or not. Since I only need original tweet data, I will need to drop rows with non-empty field under these columns for the purpose of this analysis. \n",
    "\n",
    "Next for the last four columns (`doggo`, `floofer`, `pupper` and  `puppo`), they all represent various stages of dogs so it should be grouped under a single column (untidy data).\n",
    "\n",
    "Another data quality issue was found under `name` column. There are many invalid names called 'a'.\n",
    "\n",
    "`source` column has no use in the analysis."
   ]
  },
  {
   "cell_type": "markdown",
   "id": "85462fc0",
   "metadata": {},
   "source": [
    "#### Programmatic assessment\n",
    "\n",
    "1. Missing data: Missing data for columns related to retweet. (.info())\n",
    "2. Data type: Erroneous datatypes (`timestamp`, `in_reply_to_status_id`, `in_reply_to_user_id`, `retweeted_status_id`, `retweeted_status_user_id`, `retweeted_status_timestamp`)\n",
    "3. Duplicate data: no duplicate tweet. sum(df_archive.tweet_id.duplicated())\n",
    "4. Abnormal outliers: Some exceptionally high rating in `rating_numerator`.(.describe()) Mean ratings is 13.1 but max rating is 1776 and some well over serval hundreds. Those are valid ratings, typical for [special occasions](https://twitter.com/dog_rates/status/749981277374128128/photo/1) or images [containing more than one dog](https://twitter.com/dog_rates/status/731156023742988288)."
   ]
  },
  {
   "cell_type": "markdown",
   "id": "b5f934de",
   "metadata": {},
   "source": [
    "## `df_image`"
   ]
  },
  {
   "cell_type": "markdown",
   "id": "0de8f100",
   "metadata": {},
   "source": [
    "#### Visual assessment\n",
    "\n",
    "By visual assessing df_image, I notice there are multiple predictions for each dog. For simplicity, I will only take the most confident dog prediction(`p1` and `p1_dog`=`True`) and won't bother with the rest."
   ]
  },
  {
   "cell_type": "markdown",
   "id": "c9728769",
   "metadata": {},
   "source": [
    "#### Programmatic assessment\n",
    "\n",
    "1. Missing data: no missing data using .info()\n",
    "2. Data type: Erroneous datatype for `tweet_id` (.info())\n",
    "3. Duplicate data: no duplicate tweet (sum(df_image.tweet_id.duplicated())=0)\n",
    "4. Data Validity: All numeric data are in their valid range (.describe())"
   ]
  },
  {
   "cell_type": "markdown",
   "id": "344bb587",
   "metadata": {},
   "source": [
    "### `df_tweet`"
   ]
  },
  {
   "cell_type": "markdown",
   "id": "bca8ec7c",
   "metadata": {},
   "source": [
    "#### Visual assessment"
   ]
  },
  {
   "cell_type": "markdown",
   "id": "9400ce41",
   "metadata": {},
   "source": [
    "Dataset looks good."
   ]
  },
  {
   "cell_type": "markdown",
   "id": "0cd90612",
   "metadata": {},
   "source": [
    "#### Programmatic assessment"
   ]
  },
  {
   "cell_type": "markdown",
   "id": "06512547",
   "metadata": {},
   "source": [
    "1. Missing data: no missing data using .info()\n",
    "2. Data type: Erroneous datatype for `id` (.info())\n",
    "3. Duplicate data: no duplicate tweet (sum(df_image.tweet_id.duplicated())=0)\n",
    "4. Data Validity: All numeric data are in their valid range (.describe())"
   ]
  },
  {
   "cell_type": "markdown",
   "id": "36b77a94",
   "metadata": {},
   "source": [
    "Below concludes the issues found out from the three DataFrames.\n",
    "\n",
    "### Quality\n",
    "##### `df_archive`\n",
    "- For `name` column, some are of the string \"none\" and some are named \"a\"\n",
    "- \"none\" instead of empty under `doggo`, `floofer`, `pupper` and  `puppo`\n",
    "- Erroneous datatypes (`tweet_id`, `timestamp`, `in_reply_to_status_id`, `in_reply_to_user_id`, `retweeted_status_id`, `retweeted_status_user_id`, `retweeted_status_timestamp`)\n",
    "- 181 tweets are retweet (non-empty `retweeted_status_id`)\n",
    "- `source` column has no use in the analysis.\n",
    "\n",
    "##### `df_image` \n",
    "- Irrelevant data except `p1` and `p1_dog == True`\n",
    "- Erroneous datatype `tweet_id`\n",
    "\n",
    "#### `df_tweet`\n",
    "- Erroneous datatype `id`\n",
    "\n",
    "### Tidiness\n",
    "- `df_image` should be part of `df_archive` \n",
    "- `df_tweet` should be part of `df_archive`\n",
    "\n",
    "##### `df_archive` \n",
    "- One variable in four columns (`doggo`, `floofer`, `pupper` and  `puppo`).\n",
    "\n",
    "#### `df_image`\n",
    "- `df_image`: Multiple predictions regarding dog's type (`p1`, `p2`, `p3`)"
   ]
  },
  {
   "cell_type": "markdown",
   "id": "70343f93",
   "metadata": {},
   "source": [
    "# Clean"
   ]
  },
  {
   "cell_type": "markdown",
   "id": "fa12736e",
   "metadata": {},
   "source": [
    "I will clean tidiness issue first. First, I made a copy of all DataFrame."
   ]
  },
  {
   "cell_type": "markdown",
   "id": "f5f50a32",
   "metadata": {},
   "source": [
    "### **One variable in four columns (`doggo`, `floofer`, `pupper` and  `puppo`)**\n",
    "\n",
    "*Define: Melt these four columns into a single column called `dog_stage`*\n",
    "\n",
    "Since some tweets contain multiple dogs stages (there are more than two dogs in the same picture), I would only keep the data for tweet containing one stage and change to 'none' for tweets with multiple stages.\n",
    "\n",
    "Steps:\n",
    "- Melt `doggo`, `floofer`, `pupper` and  `puppo` into one column `dog_stage` using pd.melt()\n",
    "- One tweet will have four rows, with information about each stage (none or not none)\n",
    "- If dog contains two or more stage, change all to 'none'\n",
    "- If all stages are none, remove any three of the entries\n",
    "- If one stage is not none, remove other three entries with 'none'\n",
    "\n",
    "After cleaning, `df_archive_clean` now has 2356 unique tweets with 366 tweets non \"None\" dog stages."
   ]
  },
  {
   "cell_type": "markdown",
   "id": "a21f7b3b",
   "metadata": {},
   "source": [
    "### **`df_image`: Multiple predictions regarding dog's type (`p1`, `p2`, `p3`)**\n",
    "\n",
    "Use .drop() to drops `['p2', 'p2_conf', 'p2_dog', 'p3', 'p3_dog', 'p3_conf']`."
   ]
  },
  {
   "cell_type": "markdown",
   "id": "8f260842",
   "metadata": {},
   "source": [
    "### **Merge `df_image_clean` with `df_archive_clean` by tweet_id**"
   ]
  },
  {
   "cell_type": "markdown",
   "id": "40ad6fab",
   "metadata": {},
   "source": [
    "*Define: Merge `df_image_clean` with `df_archive_clean` by `tweet_id`*.\n",
    "After merging, `p1_dog` convert to type `object`. Need to change it back to type `bool`"
   ]
  },
  {
   "cell_type": "markdown",
   "id": "4a6f75ee",
   "metadata": {},
   "source": [
    "### **`df_tweet` should be part of `df_archive`**"
   ]
  },
  {
   "cell_type": "markdown",
   "id": "90156c5f",
   "metadata": {},
   "source": [
    "*Define: Merge `df_tweet_clean` with `df_archive_clean` by `tweet_id`*"
   ]
  },
  {
   "cell_type": "markdown",
   "id": "c5148a32",
   "metadata": {},
   "source": [
    "First, change the column `id` in `df_tweet_copy` to `tweet_id` to match the column name of `df_archive_copy`. After merging, `favorite_count` and `retweet_count` are converted to float as there are some missing values. Need to convert to int by Pandas `Int64` "
   ]
  },
  {
   "cell_type": "markdown",
   "id": "57da2c65",
   "metadata": {},
   "source": [
    "# Quality"
   ]
  },
  {
   "cell_type": "markdown",
   "id": "a9c8ce3d",
   "metadata": {},
   "source": [
    "### **`df_archive`: 181 tweets are retweet (non-empty retweeted_status_id)**"
   ]
  },
  {
   "cell_type": "markdown",
   "id": "e2cfc939",
   "metadata": {},
   "source": [
    "*Define: Remove all retweet entries. Delete all retweet related columns afterward.*\n",
    "\n",
    "2175 tweets remains after retweets deletion.\n",
    "\n",
    "Then I delete `retweeted_status_id`, `retweeted_status_user_id`, `retweeted_status_timestamp`, `in_reply_to_status_id`, `in_reply_to_user_id` columns since they no longer relevant to the analysis."
   ]
  },
  {
   "cell_type": "markdown",
   "id": "c13639bf",
   "metadata": {},
   "source": [
    "### **Erroneous datatypes (`tweet_id`, `timestamp`)**"
   ]
  },
  {
   "cell_type": "markdown",
   "id": "ad1ea452",
   "metadata": {},
   "source": [
    "*Define Change `tweet_id` to type `object`. Change `timestamp` to type `datetime`*"
   ]
  },
  {
   "cell_type": "markdown",
   "id": "ab0ef0db",
   "metadata": {},
   "source": [
    "### **For `name` column, some are of the string \"none\" and some are named \"a\"**"
   ]
  },
  {
   "cell_type": "markdown",
   "id": "453cb3a4",
   "metadata": {},
   "source": [
    "*Define: Change the name \"a\" to \"none\".*"
   ]
  },
  {
   "cell_type": "markdown",
   "id": "01fb6acf",
   "metadata": {},
   "source": [
    "### `source` column has no use in the analysis."
   ]
  },
  {
   "cell_type": "markdown",
   "id": "6a1ac90d",
   "metadata": {},
   "source": [
    "*Define:* Drop `source` column"
   ]
  },
  {
   "cell_type": "markdown",
   "id": "801d9598",
   "metadata": {},
   "source": [
    "After cleaning the dataset, I store the dataset into a new csv called \"we_rate_dog_clean.csv\" using .to_csv()"
   ]
  }
 ],
 "metadata": {
  "kernelspec": {
   "display_name": "Python 3",
   "language": "python",
   "name": "python3"
  },
  "language_info": {
   "codemirror_mode": {
    "name": "ipython",
    "version": 3
   },
   "file_extension": ".py",
   "mimetype": "text/x-python",
   "name": "python",
   "nbconvert_exporter": "python",
   "pygments_lexer": "ipython3",
   "version": "3.8.8"
  }
 },
 "nbformat": 4,
 "nbformat_minor": 5
}
