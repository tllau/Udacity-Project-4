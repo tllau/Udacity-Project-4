{
 "cells": [
  {
   "cell_type": "markdown",
   "id": "charitable-activation",
   "metadata": {},
   "source": [
    "# Assess"
   ]
  },
  {
   "cell_type": "markdown",
   "id": "entitled-kitty",
   "metadata": {},
   "source": [
    "## `df_archive`"
   ]
  },
  {
   "cell_type": "markdown",
   "id": "abandoned-rating",
   "metadata": {},
   "source": [
    "#### Visual assessment\n",
    "I visually assess `df_archive` by opening the csv file on Google Sheet (it is easier to have a scroll through the datset than by Pandas. First thing I noticed there are a lot of empty field at the columns `in_reply_to_status_id`, `in_reply_to_user_id`, `retweeted_status_id`, `retweeted_status_user_id`, `retweeted_status_timestamp`. These fields indicate the tweet is a retweet or not. I probably need to drop rows with non-empty field under these columns for the purpose of this analysis. \n",
    "\n",
    "Next for the last four columns (`doggo`, `floofer`, `pupper` and  `puppo`), they all represent various stages of dogs so it should be grouped under a single column (untidy data).\n",
    "\n",
    "Another data quality issue was found under `name` column. There are many invalid names called 'a'."
   ]
  },
  {
   "cell_type": "markdown",
   "id": "united-ceremony",
   "metadata": {},
   "source": [
    "#### Programmatic assessment\n",
    "\n",
    "1. Missing data: Missing data for columns related to retweet. (.info())\n",
    "2. Data type: Erroneous datatypes (`timestamp`, `in_reply_to_status_id`, `in_reply_to_user_id`, `retweeted_status_id`, `retweeted_status_user_id`, `retweeted_status_timestamp`)\n",
    "3. Duplicate data: no duplicate tweet. sum(df_archive.tweet_id.duplicated())\n",
    "4. Abnormal outliers: Some exceptionally high rating in `rating_numerator`.(.describe()) Mean ratings is 13.1 but max rating is 1776 and some well over serval hundreds. Those are valid ratings, typical for [special occasions](https://twitter.com/dog_rates/status/749981277374128128/photo/1) or images [containing more than one dog](https://twitter.com/dog_rates/status/731156023742988288)."
   ]
  },
  {
   "cell_type": "markdown",
   "id": "burning-twist",
   "metadata": {},
   "source": [
    "## `df_image`"
   ]
  },
  {
   "cell_type": "markdown",
   "id": "overall-exhibit",
   "metadata": {},
   "source": [
    "#### Visual assessment\n",
    "\n",
    "By visual assessing df_image, I notice there are multiple predictions for each dog. For simplicity, I will only take the most confident dog prediction(`p1` and `p1_dog`=`True`) and won't bother with the rest."
   ]
  },
  {
   "cell_type": "markdown",
   "id": "selective-identification",
   "metadata": {},
   "source": [
    "#### Programmatic assessment\n",
    "\n",
    "1. Missing data: no missing data using .info()\n",
    "2. Data type: Erroneous datatype for `tweet_id` (.info())\n",
    "3. Duplicate data: no duplicate tweet (sum(df_image.tweet_id.duplicated())=0)\n",
    "4. Data Validity: All numeric data are in their valid range (.describe())"
   ]
  },
  {
   "cell_type": "markdown",
   "id": "disturbed-fever",
   "metadata": {},
   "source": [
    "### `df_tweet`"
   ]
  },
  {
   "cell_type": "markdown",
   "id": "preliminary-jungle",
   "metadata": {},
   "source": [
    "#### Visual assessment"
   ]
  },
  {
   "cell_type": "markdown",
   "id": "french-frank",
   "metadata": {},
   "source": [
    "Dataset looks good."
   ]
  },
  {
   "cell_type": "markdown",
   "id": "subject-nursing",
   "metadata": {},
   "source": [
    "#### Programmatic assessment"
   ]
  },
  {
   "cell_type": "markdown",
   "id": "adjacent-nickel",
   "metadata": {},
   "source": [
    "1. Missing data: no missing data using .info()\n",
    "2. Data type: Erroneous datatype for `id` (.info())\n",
    "3. Duplicate data: no duplicate tweet (sum(df_image.tweet_id.duplicated())=0)\n",
    "4. Data Validity: All numeric data are in their valid range (.describe())"
   ]
  },
  {
   "cell_type": "markdown",
   "id": "contrary-cincinnati",
   "metadata": {},
   "source": [
    "### Quality\n",
    "##### `df_archive`\n",
    "- For `name` column, some are of the string \"none\" and some are named \"a\"\n",
    "- \"none\" instead of empty under `doggo`, `floofer`, `pupper` and  `puppo`\n",
    "- Erroneous datatypes (`tweet_id`, `timestamp`, `in_reply_to_status_id`, `in_reply_to_user_id`, `retweeted_status_id`, `retweeted_status_user_id`, `retweeted_status_timestamp`)\n",
    "- 181 tweets are retweet (`non_empty retweeted_status_id`)\n",
    "- Data beyound August 1st, 2017 has no corresponding image prediction\n",
    "\n",
    "##### `df_image` \n",
    "- Irrelevant data except `p1` and `p1_dog == True`\n",
    "- Erroneous datatype `tweet_id`\n",
    "\n",
    "#### `df_tweet`\n",
    "- Erroneous datatype `id`\n",
    "\n",
    "### Tidiness\n",
    "- `df_image` should be part of `df_archive` \n",
    "- `df_tweet` should be part of `df_archive`\n",
    "\n",
    "##### `df_archive` \n",
    "- One variable in four columns (`doggo`, `floofer`, `pupper` and  `puppo`).\n"
   ]
  },
  {
   "cell_type": "code",
   "execution_count": null,
   "id": "complete-bennett",
   "metadata": {},
   "outputs": [],
   "source": []
  }
 ],
 "metadata": {
  "kernelspec": {
   "display_name": "Python 3",
   "language": "python",
   "name": "python3"
  },
  "language_info": {
   "codemirror_mode": {
    "name": "ipython",
    "version": 3
   },
   "file_extension": ".py",
   "mimetype": "text/x-python",
   "name": "python",
   "nbconvert_exporter": "python",
   "pygments_lexer": "ipython3",
   "version": "3.8.8"
  }
 },
 "nbformat": 4,
 "nbformat_minor": 5
}
