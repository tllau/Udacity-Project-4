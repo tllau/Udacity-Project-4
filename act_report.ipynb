{
 "cells": [
  {
   "cell_type": "markdown",
   "id": "680e9291",
   "metadata": {},
   "source": [
    "## WeRateDogs  \n",
    "WeRateDogs is an user from Twitter that rate dogs. User tweet an image of a dog and WeRateDogs would give a rating to the dog. \n",
    "Here, we will take a look at the dog’s data since the beginning (Nov2015) up to Jul2017. \n",
    "We use Udacity awesome image prediction neutral network to identify the type of dogs from the image. \n",
    "\n",
    "Date range: Nov2015 to Jul2017\n",
    "\n",
    "\n",
    "Which type of dogs get the most retweet/likes?\n",
    "\n",
    "\n",
    "\n",
    "Which type of dogs get the most retweet/likes?\n",
    "\n",
    "\n",
    "\n",
    "Most mentioned dog stages\n",
    "\n",
    "Rating distribution\n"
   ]
  },
  {
   "cell_type": "markdown",
   "id": "e17b77aa",
   "metadata": {},
   "source": [
    "First, let's take a look on the distribution of rating."
   ]
  },
  {
   "cell_type": "markdown",
   "id": "f350d51d",
   "metadata": {},
   "source": [
    "Which type of dogs get the most retweet?"
   ]
  },
  {
   "cell_type": "code",
   "execution_count": null,
   "id": "087a3e89",
   "metadata": {},
   "outputs": [],
   "source": []
  }
 ],
 "metadata": {
  "kernelspec": {
   "display_name": "Python 3",
   "language": "python",
   "name": "python3"
  },
  "language_info": {
   "codemirror_mode": {
    "name": "ipython",
    "version": 3
   },
   "file_extension": ".py",
   "mimetype": "text/x-python",
   "name": "python",
   "nbconvert_exporter": "python",
   "pygments_lexer": "ipython3",
   "version": "3.8.8"
  }
 },
 "nbformat": 4,
 "nbformat_minor": 5
}
